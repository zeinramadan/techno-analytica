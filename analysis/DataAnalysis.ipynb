{
 "cells": [
  {
   "cell_type": "markdown",
   "id": "81b36e56",
   "metadata": {},
   "source": [
    "# Data Analysis\n",
    "This notebook is to get insights on the data we've extracted using Selenium and PhantomBuster. We're looking to extract cities and countries mentioned by name or flag emoji in the bios of all the followers (that have a bio)."
   ]
  },
  {
   "cell_type": "code",
   "execution_count": 8,
   "id": "48d85deb",
   "metadata": {},
   "outputs": [],
   "source": [
    "import pandas as pd\n",
    "from geotext import GeoText\n",
    "import emoji\n",
    "from collections import Counter\n",
    "import pycountry"
   ]
  },
  {
   "cell_type": "code",
   "execution_count": 9,
   "id": "2c3e4c6a",
   "metadata": {},
   "outputs": [],
   "source": [
    "def get_flag_emoji_dict():\n",
    "    flag_emoji_dict = {}\n",
    "    for country in pycountry.countries:\n",
    "        country_code = country.alpha_2.lower()\n",
    "        flag_emoji = emoji.emojize(f\":flag_{country_code}:\", language=\"alias\")\n",
    "        flag_emoji_dict[flag_emoji] = country.name\n",
    "    return flag_emoji_dict\n",
    "\n",
    "flag_emoji_dict = get_flag_emoji_dict()"
   ]
  },
  {
   "cell_type": "code",
   "execution_count": 15,
   "id": "6062bcef",
   "metadata": {
    "collapsed": true
   },
   "outputs": [
    {
     "name": "stdout",
     "output_type": "stream",
     "text": [
      "Countries:\n",
      "Egypt: 5\n",
      "South Africa: 1\n",
      "France: 1\n",
      "\n",
      "Cities:\n",
      "Edinburgh: 16\n",
      "University: 6\n",
      "London: 6\n",
      "Glasgow: 3\n",
      "Alexandria: 3\n",
      "Paris: 3\n",
      "Berlin: 2\n",
      "Madrid: 1\n",
      "March: 1\n",
      "Stuttgart: 1\n",
      "Young: 1\n",
      "Dublin: 1\n",
      "Rutherglen: 1\n",
      "Los Angeles: 1\n",
      "Cape Town: 1\n",
      "Paulista: 1\n",
      "Grasse: 1\n",
      "Mon: 1\n",
      "Augsburg: 1\n",
      "Birmingham: 1\n",
      "Pop: 1\n",
      "New York: 1\n",
      "Un: 1\n",
      "Nottingham: 1\n",
      "Manchester: 1\n",
      "Jeddah: 1\n",
      "Boston: 1\n",
      "Budapest: 1\n",
      "Musselburgh: 1\n",
      "Leeds: 1\n",
      "Brighton: 1\n",
      "Doha: 1\n",
      "Cairo: 1\n",
      "Southampton: 1\n",
      "Bunda: 1\n",
      "Sheffield: 1\n",
      "Lyon: 1\n",
      "Leicester: 1\n",
      "Newcastle: 1\n",
      "Washington: 1\n",
      "\n",
      "Total cities: 40\n",
      "Total countries: 3\n"
     ]
    }
   ],
   "source": [
    "# Load the dataset using pandas\n",
    "data = pd.read_csv('../augmented_phantom_files/result_with_bios.csv')\n",
    "\n",
    "# Remove rows with NaN\n",
    "data_no_nan = data.dropna(subset=['bio'])\n",
    "\n",
    "# Create a Counter object to count countries and cities\n",
    "country_counter = Counter()\n",
    "city_counter = Counter()\n",
    "\n",
    "# Get the emoji dictionary\n",
    "emoji_dict = get_flag_emoji_dict()\n",
    "\n",
    "# Iterate through the dataset\n",
    "for _, row in data_no_nan.iterrows():\n",
    "    bio = row['bio']\n",
    "    \n",
    "    # Extract flag emojis and add to the country counter\n",
    "    for char in bio:\n",
    "        \n",
    "        if char in emoji_dict:\n",
    "            emoji_alias = emoji_dict[char].lower()\n",
    "            \n",
    "            if 'flag' in emoji_alias:\n",
    "                country_code = emoji_alias.replace('flag_for_', '').replace('_', ' ').strip()\n",
    "                country_counter.update([country_code])\n",
    "\n",
    "    # Extract cities and countries using GeoText\n",
    "    places = GeoText(bio)\n",
    "    city_counter.update(places.cities)\n",
    "    country_counter.update(places.countries)\n",
    "\n",
    "# Print the results\n",
    "print(\"Countries:\")\n",
    "for country, count in country_counter.most_common():\n",
    "    print(f\"{country}: {count}\")\n",
    "\n",
    "print(\"\\nCities:\")\n",
    "for city, count in city_counter.most_common():\n",
    "    print(f\"{city}: {count}\")\n",
    "    \n",
    "total_city_count = len(city_counter)\n",
    "total_country_count = len(country_counter)\n",
    "\n",
    "print(\"\\nTotal cities:\", total_city_count)\n",
    "print(\"Total countries:\", total_country_count)"
   ]
  },
  {
   "cell_type": "code",
   "execution_count": null,
   "id": "4f55880b",
   "metadata": {},
   "outputs": [],
   "source": []
  }
 ],
 "metadata": {
  "kernelspec": {
   "display_name": "Python 3 (ipykernel)",
   "language": "python",
   "name": "python3"
  },
  "language_info": {
   "codemirror_mode": {
    "name": "ipython",
    "version": 3
   },
   "file_extension": ".py",
   "mimetype": "text/x-python",
   "name": "python",
   "nbconvert_exporter": "python",
   "pygments_lexer": "ipython3",
   "version": "3.8.16"
  }
 },
 "nbformat": 4,
 "nbformat_minor": 5
}
