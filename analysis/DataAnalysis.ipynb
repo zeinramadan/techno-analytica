{
 "cells": [
  {
   "cell_type": "markdown",
   "id": "81b36e56",
   "metadata": {},
   "source": [
    "# Data Analysis\n",
    "This notebook is to get insights on the data we've extracted using Selenium and PhantomBuster."
   ]
  },
  {
   "cell_type": "code",
   "execution_count": null,
   "id": "b70f51c3",
   "metadata": {},
   "outputs": [],
   "source": [
    "import spacy\n",
    "import re\n",
    "from collections import Counter"
   ]
  },
  {
   "cell_type": "code",
   "execution_count": null,
   "id": "52a885e7",
   "metadata": {},
   "outputs": [],
   "source": [
    "def extract_locations_from_text(text):\n",
    "    doc = nlp(text)\n",
    "    return [ent.text for ent in doc.ents if ent.label_ == \"GPE\"]\n",
    "\n",
    "def extract_locations_from_emojis(text):\n",
    "    # A dictionary with some common location-related emojis and their corresponding location names\n",
    "    emoji_location_mapping = {\n",
    "        '🗽': 'New York',\n",
    "        '🏙️': 'City',\n",
    "        '🏔️': 'Mountains',\n",
    "        '🌉': 'San Francisco',\n",
    "        '🇺🇸': 'United States',\n",
    "        # Add more emojis and locations here\n",
    "    }\n",
    "    locations = []\n",
    "    for emoji, location in emoji_location_mapping.items():\n",
    "        if emoji in text:\n",
    "            locations.append(location)\n",
    "    return locations"
   ]
  },
  {
   "cell_type": "code",
   "execution_count": null,
   "id": "fc54b2b1",
   "metadata": {},
   "outputs": [],
   "source": [
    "nlp = spacy.load(\"en_core_web_sm\")\n",
    "bios = [\n",
    "    \"🗽 New Yorker, love pizza and 🏙️ city life\",\n",
    "    \"San Francisco Bay Area 🌉 Tech Enthusiast\",\n",
    "    \"Living in the 🏔️ mountains, 🇺🇸\",\n",
    "    # Add more bio examples here\n",
    "]\n",
    "\n",
    "location_counts = Counter()\n",
    "\n",
    "for bio in bios:\n",
    "    locations = extract_locations_from_text(bio)\n",
    "    locations += extract_locations_from_emojis(bio)\n",
    "    location_counts.update(locations)\n",
    "\n",
    "print(location_counts)"
   ]
  }
 ],
 "metadata": {
  "kernelspec": {
   "display_name": "Python 3 (ipykernel)",
   "language": "python",
   "name": "python3"
  },
  "language_info": {
   "codemirror_mode": {
    "name": "ipython",
    "version": 3
   },
   "file_extension": ".py",
   "mimetype": "text/x-python",
   "name": "python",
   "nbconvert_exporter": "python",
   "pygments_lexer": "ipython3",
   "version": "3.8.16"
  }
 },
 "nbformat": 4,
 "nbformat_minor": 5
}
