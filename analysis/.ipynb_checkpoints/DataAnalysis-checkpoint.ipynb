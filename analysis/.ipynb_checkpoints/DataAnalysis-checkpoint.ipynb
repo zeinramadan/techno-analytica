{
 "cells": [
  {
   "cell_type": "markdown",
   "id": "81b36e56",
   "metadata": {},
   "source": [
    "# Data Analysis\n",
    "This notebook is to get insights on the data we've extracted using Selenium and PhantomBuster."
   ]
  },
  {
   "cell_type": "code",
   "execution_count": null,
   "id": "fc54b2b1",
   "metadata": {},
   "outputs": [],
   "source": []
  }
 ],
 "metadata": {
  "kernelspec": {
   "display_name": "Python 3 (ipykernel)",
   "language": "python",
   "name": "python3"
  },
  "language_info": {
   "codemirror_mode": {
    "name": "ipython",
    "version": 3
   },
   "file_extension": ".py",
   "mimetype": "text/x-python",
   "name": "python",
   "nbconvert_exporter": "python",
   "pygments_lexer": "ipython3",
   "version": "3.8.16"
  }
 },
 "nbformat": 4,
 "nbformat_minor": 5
}
